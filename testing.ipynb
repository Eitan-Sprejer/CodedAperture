{
 "cells": [
  {
   "cell_type": "code",
   "execution_count": 1,
   "metadata": {},
   "outputs": [],
   "source": [
    "import numpy as np"
   ]
  },
  {
   "cell_type": "markdown",
   "metadata": {},
   "source": [
    "# <center> First attempt on simulating Coded Aperture </center>\n",
    "\n",
    "This notebook is a first attempt on simulating light coming out of a screen as single photons, passing through a single hole, projecting onto a flat sensor.\n",
    "\n",
    "The degrees of fredom would be:\n",
    "1. Distance between each screen\n",
    "2. Solid angle limits of emision\n",
    "3. Number of photons coming out of each pixel\n",
    "4. Resolution: Number of pixels on the light source\n",
    "5. Dimention of each screen\n",
    "\n",
    "For now, 1, 4 and 5 will be fixed."
   ]
  },
  {
   "cell_type": "code",
   "execution_count": null,
   "metadata": {},
   "outputs": [],
   "source": [
    "### Create the source screen, the slit in the middle, and the sensor screen.\n",
    "\n"
   ]
  }
 ],
 "metadata": {
  "kernelspec": {
   "display_name": "Python 3.9.12 ('base')",
   "language": "python",
   "name": "python3"
  },
  "language_info": {
   "codemirror_mode": {
    "name": "ipython",
    "version": 3
   },
   "file_extension": ".py",
   "mimetype": "text/x-python",
   "name": "python",
   "nbconvert_exporter": "python",
   "pygments_lexer": "ipython3",
   "version": "3.9.12"
  },
  "orig_nbformat": 4,
  "vscode": {
   "interpreter": {
    "hash": "7e81b23ed92c8fb15dbce9983861fd8d857bf6d09def40e893b7999baeecebb1"
   }
  }
 },
 "nbformat": 4,
 "nbformat_minor": 2
}
