{
 "cells": [
  {
   "cell_type": "code",
   "execution_count": 2,
   "metadata": {},
   "outputs": [],
   "source": [
    "import numpy as np\n",
    "import matplotlib.pyplot as plt\n",
    "import seaborn as sns\n",
    "from tqdm import tqdm\n",
    "import cv2\n",
    "import codedapertures as ca\n",
    "\n",
    "from utils import get_objects_from_config\n",
    "from experiment import CodApSimulator, play_simulation"
   ]
  },
  {
   "cell_type": "markdown",
   "metadata": {},
   "source": [
    "# <center> First attempt on simulating Coded Aperture (DEPRECATED) </center>\n",
    "\n",
    "This notebook is a first attempt on simulating light coming out of a screen as single photons, passing through a single hole, projecting onto a flat sensor.\n",
    "\n",
    "The degrees of fredom would be:\n",
    "1. Distance between each screen\n",
    "2. Solid angle limits of emision (for now, we fix it at 360 for $\\theta$, and 90 for $\\phi$)\n",
    "3. Number of photons coming out of each pixel\n",
    "4. Resolution: Number of pixels on the light source\n",
    "5. Dimention of each screen\n",
    "\n",
    "For now, 1, 4 and 5 will be fixed."
   ]
  },
  {
   "cell_type": "markdown",
   "metadata": {},
   "source": [
    "# Testing full pipeline"
   ]
  },
  {
   "cell_type": "code",
   "execution_count": 8,
   "metadata": {},
   "outputs": [
    {
     "name": "stdout",
     "output_type": "stream",
     "text": [
      "Simulating the propagation of photons through the slit...\n"
     ]
    },
    {
     "name": "stderr",
     "output_type": "stream",
     "text": [
      "100%|██████████| 50000/50000 [00:28<00:00, 1736.34it/s]"
     ]
    },
    {
     "name": "stdout",
     "output_type": "stream",
     "text": [
      "Adding noise to the image...\n",
      "Done!\n",
      "Saving results...\n"
     ]
    },
    {
     "name": "stderr",
     "output_type": "stream",
     "text": [
      "\n"
     ]
    }
   ],
   "source": [
    "config_path = \"config.json\"\n",
    "source, slit, sensor, options = get_objects_from_config(config_path)\n",
    "simulator = CodApSimulator(\n",
    "    options=options, source=source, slit=slit, sensor=sensor\n",
    ")\n",
    "play_simulation(simulator, config_path)"
   ]
  },
  {
   "cell_type": "markdown",
   "metadata": {},
   "source": [
    "# Testing Decoding"
   ]
  },
  {
   "cell_type": "markdown",
   "metadata": {},
   "source": [
    "## MURA"
   ]
  },
  {
   "cell_type": "code",
   "execution_count": 51,
   "metadata": {},
   "outputs": [
    {
     "data": {
      "text/plain": [
       "array([[ 1,  5, 11, 13,  6],\n",
       "       [ 4, 16, 29, 25, 10],\n",
       "       [ 6, 21, 38, 37, 19],\n",
       "       [ 4, 14, 28, 26, 12],\n",
       "       [ 1,  4, 10, 12,  9]])"
      ]
     },
     "execution_count": 51,
     "metadata": {},
     "output_type": "execute_result"
    }
   ],
   "source": [
    "import scipy as sp\n",
    "\n",
    "sp.signal.convolve2d(np.array([[1, 2, 3], [2, 3, 2], [1, 2, 3]]), np.array([[1, 3, 2], [2, 3, 2], [1, 2, 3]]))"
   ]
  },
  {
   "cell_type": "code",
   "execution_count": 54,
   "metadata": {},
   "outputs": [
    {
     "name": "stdout",
     "output_type": "stream",
     "text": [
      "Modified Uniformly Redundant Array\n",
      "----------------------------------\n",
      "rank:   11\n",
      "L:      101\n",
      "tile:   (1, 1)\n",
      "width:  101\n",
      "height: 101\n"
     ]
    }
   ],
   "source": [
    "source, slit, sensor, options = get_objects_from_config(config_path='config.json')\n",
    "simulator = CodApSimulator(source=source, slit=slit, sensor=sensor, options=options)"
   ]
  },
  {
   "cell_type": "code",
   "execution_count": 61,
   "metadata": {},
   "outputs": [
    {
     "name": "stdout",
     "output_type": "stream",
     "text": [
      "Simulating the propagation of photons through the slit...\n"
     ]
    },
    {
     "name": "stderr",
     "output_type": "stream",
     "text": [
      "100%|██████████| 50000/50000 [00:12<00:00, 4022.57it/s]"
     ]
    },
    {
     "name": "stdout",
     "output_type": "stream",
     "text": [
      "Adding noise to the image...\n",
      "Decoding Image Generated...\n",
      "Done!\n",
      "Saving results...\n"
     ]
    },
    {
     "name": "stderr",
     "output_type": "stream",
     "text": [
      "\n"
     ]
    }
   ],
   "source": [
    "play_simulation(simulator=simulator, config_path='config.json')"
   ]
  }
 ],
 "metadata": {
  "kernelspec": {
   "display_name": "Python 3.9.12 ('base')",
   "language": "python",
   "name": "python3"
  },
  "language_info": {
   "codemirror_mode": {
    "name": "ipython",
    "version": 3
   },
   "file_extension": ".py",
   "mimetype": "text/x-python",
   "name": "python",
   "nbconvert_exporter": "python",
   "pygments_lexer": "ipython3",
   "version": "3.9.12"
  },
  "orig_nbformat": 4,
  "vscode": {
   "interpreter": {
    "hash": "7e81b23ed92c8fb15dbce9983861fd8d857bf6d09def40e893b7999baeecebb1"
   }
  }
 },
 "nbformat": 4,
 "nbformat_minor": 2
}
